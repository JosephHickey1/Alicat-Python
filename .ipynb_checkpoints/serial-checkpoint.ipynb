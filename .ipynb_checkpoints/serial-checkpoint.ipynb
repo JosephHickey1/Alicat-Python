{
 "cells": [
  {
   "cell_type": "markdown",
   "id": "8e4d916b",
   "metadata": {},
   "source": [
    "These classes form the backbone of Alicat operations through serial commmands"
   ]
  },
  {
   "cell_type": "code",
   "execution_count": 1,
   "id": "2ccfd816",
   "metadata": {},
   "outputs": [],
   "source": [
    "try:\n",
    "    import serial\n",
    "except ImportError:\n",
    "    print(\"An error occurred while attempting to import the pyserial backend. Please check your installation and try again.\")\n"
   ]
  },
  {
   "cell_type": "code",
   "execution_count": 2,
   "id": "ea9c359f",
   "metadata": {},
   "outputs": [],
   "source": [
    "class Serial_Connection(object):\n",
    "    \"\"\"The serial connection object from which other classes inherit port and baud settings as\n",
    "    well as reading and writing capabilities. Preprocessing for GP firmware outputs is performed\n",
    "    using the remove_characters function\"\"\"\n",
    "    \n",
    "    # A dictionary storing open serial ports for comparison with new connections being opened\n",
    "    open_ports = {}\n",
    "    \n",
    "    def __init__(self, port='/dev/ttyUSB0', baud=19200):\n",
    "        \n",
    "        self.port, self.baud = port, baud\n",
    "        self.devices = {}\n",
    "        \n",
    "        # Checks for the existence of an identical port to avoid multiple instances\n",
    "        # creates a new one if none exists\n",
    "        if port in Serial_Connection.open_ports:\n",
    "            self.connection = Serial_Connection.open_ports[port]\n",
    "        else:\n",
    "            self.connection = serial.Serial(port, baud, timeout=2.0)\n",
    "            Serial_Connection.open_ports[port] = self.connection\n",
    "        \n",
    "        self.open = True\n",
    "        \n",
    "    def _test_open(self):\n",
    "        \n",
    "        if not self.open:\n",
    "            raise IOError(f\"The connection to Alicats on port {self.port} not open\")\n",
    "    \n",
    "    \n",
    "    def flush(self):\n",
    "        \"\"\"Deletes all characters in the read/write buffer to avoid double messages or rewrites\"\"\"\n",
    "        self._test_open()\n",
    "        \n",
    "        self.connection.flush()\n",
    "        self.connection.flushInput()\n",
    "        self.connection.flushOutput()\n",
    "\n",
    "    def close(self):\n",
    "        \"\"\"Checks if the instance exists, clears the buffer, closes the connection, and removes\n",
    "        itself from the dictionary of active ports\"\"\"\n",
    "        if not self.open:\n",
    "            return\n",
    "        \n",
    "        self.flush()\n",
    "        \n",
    "        self.connection.close()\n",
    "        Serial_Connection.open_ports.pop(self.port, None)\n",
    "        \n",
    "        self.open = False\n",
    "        \n",
    "    def read(self):\n",
    "        \"\"\"Fast read method using byte arrays with a carriage return delimiter between lines.\n",
    "        ~30x faster than a readline operation by reading individual characters and appending \n",
    "        them to the byte array. The byte array is then decoded into a string and returned\"\"\"\n",
    "        self._test_open()\n",
    "        \n",
    "        line = bytearray()\n",
    "        while True:\n",
    "            c = self.connection.read(1)\n",
    "            if c:\n",
    "                line += c\n",
    "                if line[-1] == ord('\\r'):\n",
    "                    break\n",
    "            else:\n",
    "                break\n",
    "        \n",
    "        return line.decode('ascii').strip()\n",
    "    \n",
    "    def write(self, ID, command):\n",
    "        \"\"\"Writes the input command for a device with the stated ID by encoding to ascii\n",
    "        and sending through the serial connection write command. Reads out the return parsing \n",
    "        multiple lines until the buffer is clear.\"\"\"\n",
    "        command = str(ID) + str(command) + '\\r'\n",
    "        command = command.encode('ascii')\n",
    "        self.connection.write(command)\n",
    "        response = []\n",
    "        response.append(self.read())\n",
    "        while True:\n",
    "            if response[-1] != '':\n",
    "                response.append(self.read())\n",
    "            else:\n",
    "                return response[:-1]\n",
    "            \n",
    "    def remove_characters(self, array, *args):\n",
    "        \"\"\"Removes any set of string characters from an array in place. Used for\n",
    "        clearing the '/x08' string from arrays returned from the read and write commands\"\"\"\n",
    "        \n",
    "        filteredarray = []\n",
    "        \n",
    "        if isinstance(array[0], list):\n",
    "            for i in range(len(array)):\n",
    "                for j in range(len(args)):\n",
    "                    temp = list(filter((args[j]).__ne__, array[i]))\n",
    "                filteredarray.append(temp)\n",
    "        else:\n",
    "            for i in range(len(args)):\n",
    "                filteredarray.append(list(filter((args[i]).__ne__, array)))\n",
    "        del array\n",
    "        return filteredarray\n",
    "    \n",
    "    \n",
    "    \n",
    "    "
   ]
  },
  {
   "cell_type": "code",
   "execution_count": 62,
   "id": "ff3f8831",
   "metadata": {},
   "outputs": [],
   "source": [
    "class MassFlowMeter(Serial_Connection):\n",
    "    \"\"\"Base class which obtains relevant gas\"\"\"\n",
    "    def __init__(self, ID :str ='A', port : str ='/dev/ttyUSB0', baud : int =19200):\n",
    "        super().__init__(port, baud)\n",
    "        self.ID, self.port, self.baud = ID, port, baud\n",
    "        self.fetch_gas_list()\n",
    "        self.fetch_firmware_version()\n",
    "        self.data_format()\n",
    "    \n",
    "    def fetch_gas_list(self):\n",
    "        self.gas_list = {}\n",
    "        gases = [i.split() for i in self.write(self.ID, '??G*')]\n",
    "        gases = self.remove_characters(gases, '\\x08')\n",
    "        for i in range(len(gases)):\n",
    "            self.gas_list[gases[i][2]] = int(gases[i][1][1:])\n",
    "        \n",
    "    \n",
    "    def fetch_firmware_version(self):\n",
    "        manufacturer_data = [i.split() for i in self.write(self.ID, '??M*')]\n",
    "        self.manufacturer_data = self.remove_characters(manufacturer_data,'\\x08')\n",
    "        self.firmware_version = self.manufacturer_data[-1][-1]\n",
    "        \n",
    "    def data_format(self):\n",
    "        self.data = []\n",
    "        outputs = [i.split() for i in self.write(self.ID,'??D*')]\n",
    "        outputs = self.remove_characters(outputs,'\\x08')\n",
    "        typloc, namloc = 4, 3\n",
    "        if self.firmware_version[:2] == 'GP':\n",
    "            typloc, namloc = 3, 2\n",
    "        for i in range(2,len(outputs)):\n",
    "            if outputs[i][typloc] != 'string' or outputs[i][namloc] == 'Gas':\n",
    "                self.data.append([outputs[i][1][1:], outputs[i][2], outputs[i][-1]])\n",
    "        \n",
    "        \n",
    "        "
   ]
  },
  {
   "cell_type": "code",
   "execution_count": 63,
   "id": "be5540e8",
   "metadata": {
    "scrolled": true
   },
   "outputs": [],
   "source": [
    "AAA = MassFlowMeter(ID='A', port='COM5', baud=19200)"
   ]
  },
  {
   "cell_type": "code",
   "execution_count": 33,
   "id": "b5d208d3",
   "metadata": {},
   "outputs": [
    {
     "data": {
      "text/plain": [
       "['A +025.28 +0.0000 +0.00 +0.0000    Air']"
      ]
     },
     "execution_count": 33,
     "metadata": {},
     "output_type": "execute_result"
    }
   ],
   "source": [
    "AAA.write('A','U')"
   ]
  },
  {
   "cell_type": "code",
   "execution_count": 64,
   "id": "40930de5",
   "metadata": {},
   "outputs": [
    {
     "data": {
      "text/plain": [
       "[['A', 'D00', 'NAME_______', 'TYPE____', 'MinVAL_', 'MaxVAL_', 'UNITS__'],\n",
       " ['A', 'D01', 'Identifier', 'char', 'A', 'Z', '_'],\n",
       " ['A', 'D02', 'Pressure', 'signed', '+000.00', '+160.00', 'PSIA'],\n",
       " ['A', 'D03', 'Temperature', 'signed', '-010.00', '+050.00', 'C'],\n",
       " ['A', 'D04', 'Volumetric', 'signed', '+0000.0', '+0500.0', 'CCM'],\n",
       " ['A', 'D05', 'Mass', 'signed', '+0000.0', '+0500.0', 'SCCM'],\n",
       " ['A', 'D06', 'SetPoint', 'unsigned', '0000.0', '0500.0', 'SCCM'],\n",
       " ['A', 'D07', 'Total', 'unsigned', '000.000', '999.999', 'NCM'],\n",
       " ['A', 'D08', 'Gas', 'string', 'Air', 'P-5', '_'],\n",
       " ['A', 'D09', 'Error', 'string', '_', 'SPI', '_'],\n",
       " ['A', 'D10', 'Error', 'string', '_', 'EEP', '_'],\n",
       " ['A', 'D11', 'Error', 'string', '_', 'ADS', '_'],\n",
       " ['A', 'D12', 'Error', 'string', '_', 'DAC', '_'],\n",
       " ['A', 'D13', 'Error', 'string', '_', 'LCD', '_'],\n",
       " ['A', 'D14', 'Error', 'string', '_', 'INT', '_'],\n",
       " ['A', 'D15', 'Status', 'string', '_', 'OVR', '_'],\n",
       " ['A', 'D16', 'Error', 'string', '_', '???', '_'],\n",
       " ['A', 'D17', 'Status', 'string', '_', 'LCK', '_'],\n",
       " ['A', 'D18', 'Status', 'string', '_', 'HLD', '_'],\n",
       " ['A', 'D19', 'Status', 'string', '_', 'Pov', '_'],\n",
       " ['A', 'D20', 'Status', 'string', '_', 'Tov', '_'],\n",
       " ['A', 'D21', 'Status', 'string', '_', 'Vov', '_'],\n",
       " ['A', 'D22', 'Status', 'string', '_', 'Mov', '_']]"
      ]
     },
     "execution_count": 64,
     "metadata": {},
     "output_type": "execute_result"
    }
   ],
   "source": [
    "AAA.outputs"
   ]
  },
  {
   "cell_type": "code",
   "execution_count": 37,
   "id": "accc9c33",
   "metadata": {},
   "outputs": [
    {
     "data": {
      "text/plain": [
       "[['A',\n",
       "  'D00',\n",
       "  'ID_',\n",
       "  'NAME______________________',\n",
       "  'TYPE_______',\n",
       "  'WIDTH',\n",
       "  'NOTES___________________'],\n",
       " ['A', 'D01', '700', 'Unit', 'ID', 'string', '1'],\n",
       " ['A', 'D02', '003', 'Flow', 'Temp', 's', 'decimal', '7/2', '002', '02', '`C'],\n",
       " ['A',\n",
       "  'D03',\n",
       "  '004',\n",
       "  'Volu',\n",
       "  'Flow',\n",
       "  's',\n",
       "  'decimal',\n",
       "  '7/4',\n",
       "  '012',\n",
       "  '02',\n",
       "  'CCM'],\n",
       " ['A',\n",
       "  'D04',\n",
       "  '005',\n",
       "  'Mass',\n",
       "  'Flow',\n",
       "  's',\n",
       "  'decimal',\n",
       "  '5/2',\n",
       "  '012',\n",
       "  '02',\n",
       "  'SCCM'],\n",
       " ['A',\n",
       "  'D05',\n",
       "  '036',\n",
       "  'Volu',\n",
       "  'Flow',\n",
       "  'Setpt',\n",
       "  's',\n",
       "  'decimal',\n",
       "  '7/4',\n",
       "  '012',\n",
       "  '02',\n",
       "  'CCM'],\n",
       " ['A', 'D06', '703', 'Gas', 'string', '6'],\n",
       " ['A', 'D07', '701', '*Error', 'string', '3', 'ADC'],\n",
       " ['A', 'D08', '702', '*Status', 'string', '3', 'OPL'],\n",
       " ['A', 'D09', '702', '*Status', 'string', '3', 'POV'],\n",
       " ['A', 'D10', '702', '*Status', 'string', '3', 'P2O'],\n",
       " ['A', 'D11', '702', '*Status', 'string', '3', 'TOV'],\n",
       " ['A', 'D12', '702', '*Status', 'string', '3', 'VOV'],\n",
       " ['A', 'D13', '702', '*Status', 'string', '3', 'MOV'],\n",
       " ['A', 'D14', '702', '*Status', 'string', '3', 'TMF'],\n",
       " ['A', 'D15', '702', '*Status', 'string', '3', 'OVR'],\n",
       " ['A', 'D16', '702', '*Status', 'string', '3', 'COM'],\n",
       " ['A', 'D17', '702', '*Status', 'string', '3', 'HLD'],\n",
       " ['A', 'D18', '702', '*Status', 'string', '3', 'EXH'],\n",
       " ['A', 'D19', '702', '*Status', 'string', '3', 'LCK']]"
      ]
     },
     "execution_count": 37,
     "metadata": {},
     "output_type": "execute_result"
    }
   ],
   "source": [
    "AAA.outputs"
   ]
  },
  {
   "cell_type": "code",
   "execution_count": 61,
   "id": "36ebeb7c",
   "metadata": {},
   "outputs": [
    {
     "data": {
      "text/plain": [
       "[['02', 'Pressure', 'PSIA'],\n",
       " ['03', 'Temperature', 'C'],\n",
       " ['04', 'Volumetric', 'CCM'],\n",
       " ['05', 'Mass', 'SCCM'],\n",
       " ['06', 'SetPoint', 'SCCM'],\n",
       " ['07', 'Total', 'NCM'],\n",
       " ['08', 'Gas', '_']]"
      ]
     },
     "execution_count": 61,
     "metadata": {},
     "output_type": "execute_result"
    }
   ],
   "source": [
    "AAA.data"
   ]
  },
  {
   "cell_type": "code",
   "execution_count": null,
   "id": "e5a0e884",
   "metadata": {},
   "outputs": [],
   "source": []
  },
  {
   "cell_type": "code",
   "execution_count": 80,
   "id": "8a2724af",
   "metadata": {},
   "outputs": [
    {
     "data": {
      "text/plain": [
       "[['02', 'Pressure'],\n",
       " ['03', 'Temperature'],\n",
       " ['04', 'Volumetric'],\n",
       " ['05', 'Mass'],\n",
       " ['06', 'SetPoint'],\n",
       " ['07', 'Total'],\n",
       " ['08', 'Gas']]"
      ]
     },
     "execution_count": 80,
     "metadata": {},
     "output_type": "execute_result"
    }
   ],
   "source": [
    "data = []\n",
    "for i in range(2,len(out)):\n",
    "    if out[i][3] != 'string' or out[i][2] == 'Gas':\n",
    "        data.append([out[i][1][1:], out[i][2]])\n",
    "        \n",
    "data"
   ]
  },
  {
   "cell_type": "code",
   "execution_count": null,
   "id": "d31d8083",
   "metadata": {},
   "outputs": [],
   "source": [
    "BBB=Serial_Connection(port='COM5\", baud=19200')"
   ]
  },
  {
   "cell_type": "code",
   "execution_count": 54,
   "id": "d0385132",
   "metadata": {
    "collapsed": true
   },
   "outputs": [
    {
     "data": {
      "text/plain": [
       "{'Air': 0,\n",
       " 'Ar': 1,\n",
       " 'CH4': 2,\n",
       " 'CO': 3,\n",
       " 'CO2': 4,\n",
       " 'C2H6': 5,\n",
       " 'H2': 6,\n",
       " 'He': 7,\n",
       " 'N2': 8,\n",
       " 'N2O': 9,\n",
       " 'Ne': 10,\n",
       " 'O2': 11,\n",
       " 'C3H8': 12,\n",
       " 'n-C4H10': 13,\n",
       " 'C2H2': 14,\n",
       " 'C2H4': 15,\n",
       " 'i-C4H10': 16,\n",
       " 'Krypton': 17,\n",
       " 'Xe': 18,\n",
       " 'SF6': 19,\n",
       " 'C-25': 20,\n",
       " 'C-10': 21,\n",
       " 'C-8': 22,\n",
       " 'C-2': 23,\n",
       " 'C-75': 24,\n",
       " 'A-75': 25,\n",
       " 'A-25': 26,\n",
       " 'A1025': 27,\n",
       " 'Star29': 28,\n",
       " 'P-5': 29}"
      ]
     },
     "execution_count": 54,
     "metadata": {},
     "output_type": "execute_result"
    }
   ],
   "source": [
    "AAA.gas_list"
   ]
  },
  {
   "cell_type": "code",
   "execution_count": null,
   "id": "791713d5",
   "metadata": {},
   "outputs": [],
   "source": [
    "BBB.write('A','??G*')"
   ]
  },
  {
   "cell_type": "code",
   "execution_count": 49,
   "id": "6958e51b",
   "metadata": {},
   "outputs": [
    {
     "data": {
      "text/plain": [
       "'H2'"
      ]
     },
     "execution_count": 49,
     "metadata": {},
     "output_type": "execute_result"
    }
   ],
   "source": [
    "list(AAA.gas_list)[int('06')]"
   ]
  },
  {
   "cell_type": "code",
   "execution_count": null,
   "id": "91e986a8",
   "metadata": {},
   "outputs": [],
   "source": []
  },
  {
   "cell_type": "code",
   "execution_count": 24,
   "id": "5a105d0e",
   "metadata": {
    "scrolled": true
   },
   "outputs": [
    {
     "data": {
      "text/plain": [
       "'9v06.0-R23'"
      ]
     },
     "execution_count": 24,
     "metadata": {},
     "output_type": "execute_result"
    }
   ],
   "source": [
    "AAA.firmware_version\n"
   ]
  },
  {
   "cell_type": "code",
   "execution_count": 45,
   "id": "c058eded",
   "metadata": {},
   "outputs": [
    {
     "data": {
      "text/plain": [
       "'06'"
      ]
     },
     "execution_count": 45,
     "metadata": {},
     "output_type": "execute_result"
    }
   ],
   "source": [
    "AAA.gas_list['H2']"
   ]
  },
  {
   "cell_type": "code",
   "execution_count": 58,
   "id": "dea7b90b",
   "metadata": {},
   "outputs": [],
   "source": [
    "AAA.flush()\n",
    "AAA.close()"
   ]
  },
  {
   "cell_type": "code",
   "execution_count": null,
   "id": "2b74d0bd",
   "metadata": {},
   "outputs": [],
   "source": [
    "BBB.close()"
   ]
  }
 ],
 "metadata": {
  "kernelspec": {
   "display_name": "Python 3 (ipykernel)",
   "language": "python",
   "name": "python3"
  },
  "language_info": {
   "codemirror_mode": {
    "name": "ipython",
    "version": 3
   },
   "file_extension": ".py",
   "mimetype": "text/x-python",
   "name": "python",
   "nbconvert_exporter": "python",
   "pygments_lexer": "ipython3",
   "version": "3.8.8"
  }
 },
 "nbformat": 4,
 "nbformat_minor": 5
}
