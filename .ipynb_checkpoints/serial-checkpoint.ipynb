{
 "cells": [
  {
   "cell_type": "markdown",
   "id": "8e4d916b",
   "metadata": {},
   "source": [
    "This file serves as a class to form the serial or TCP connection to an Alicat device."
   ]
  },
  {
   "cell_type": "code",
   "execution_count": 4,
   "id": "2ccfd816",
   "metadata": {},
   "outputs": [],
   "source": [
    "try:\n",
    "    import serial\n",
    "except ImportError:\n",
    "    print(\"An error occurred while attempting to import the pyserial backend. Please check your installation and try again.\")\n"
   ]
  },
  {
   "cell_type": "code",
   "execution_count": 5,
   "id": "ea9c359f",
   "metadata": {},
   "outputs": [],
   "source": [
    "class serialconnection(object):\n",
    "    \n",
    "    open_ports = {}\n",
    "    # Dictionary mapping port names to tuples of connection objects and refcounts\n",
    "    \n",
    "    def __init__(self, port='/dev/ttyUSB0', ID='A', baud=19200):\n",
    "        \"\"\"Forms a serial connection with a device having the given Unit ID on the given COM port.\n",
    "        Args:\n",
    "            port: defaults to /dev/ttyUSB0 but can accept other COM ports\n",
    "            id: defaults to A. Each device on a shared COM port must have a unique ID A-Z\n",
    "        \"\"\"\n",
    "        self.port, self.ID, self.baud = port, ID, baud\n",
    "        \n",
    "        \n",
    "        if port in serialconnection.open_ports:\n",
    "            self.connection, refcount = serialconnection.open_ports[port]\n",
    "            serialconnection.open_ports[port] = (self.connection, refcount+1)\n",
    "        else:\n",
    "            self.connection = serial.Serial(port, baud, timeout=1.0)\n",
    "            serialconnection.open_ports[port] = (self.connection, 1)\n",
    "        \n",
    "        self.open = True\n",
    "        \n"
   ]
  },
  {
   "cell_type": "code",
   "execution_count": 15,
   "id": "e8c59a9e",
   "metadata": {},
   "outputs": [],
   "source": [
    "meter = serialconnection(port='COM5')"
   ]
  },
  {
   "cell_type": "code",
   "execution_count": 16,
   "id": "82d2567b",
   "metadata": {},
   "outputs": [
    {
     "ename": "PortNotOpenError",
     "evalue": "Attempting to use a port that is not open",
     "output_type": "error",
     "traceback": [
      "\u001b[1;31m---------------------------------------------------------------------------\u001b[0m",
      "\u001b[1;31mPortNotOpenError\u001b[0m                          Traceback (most recent call last)",
      "\u001b[1;32m<ipython-input-16-d2718b8e39a8>\u001b[0m in \u001b[0;36m<module>\u001b[1;34m\u001b[0m\n\u001b[1;32m----> 1\u001b[1;33m \u001b[0mmeter\u001b[0m\u001b[1;33m.\u001b[0m\u001b[0mconnection\u001b[0m\u001b[1;33m.\u001b[0m\u001b[0mread\u001b[0m\u001b[1;33m(\u001b[0m\u001b[1;36m1\u001b[0m\u001b[1;33m)\u001b[0m\u001b[1;33m\u001b[0m\u001b[1;33m\u001b[0m\u001b[0m\n\u001b[0m",
      "\u001b[1;32m~\\Anaconda3\\lib\\site-packages\\serial\\serialwin32.py\u001b[0m in \u001b[0;36mread\u001b[1;34m(self, size)\u001b[0m\n\u001b[0;32m    267\u001b[0m         \"\"\"\n\u001b[0;32m    268\u001b[0m         \u001b[1;32mif\u001b[0m \u001b[1;32mnot\u001b[0m \u001b[0mself\u001b[0m\u001b[1;33m.\u001b[0m\u001b[0mis_open\u001b[0m\u001b[1;33m:\u001b[0m\u001b[1;33m\u001b[0m\u001b[1;33m\u001b[0m\u001b[0m\n\u001b[1;32m--> 269\u001b[1;33m             \u001b[1;32mraise\u001b[0m \u001b[0mPortNotOpenError\u001b[0m\u001b[1;33m(\u001b[0m\u001b[1;33m)\u001b[0m\u001b[1;33m\u001b[0m\u001b[1;33m\u001b[0m\u001b[0m\n\u001b[0m\u001b[0;32m    270\u001b[0m         \u001b[1;32mif\u001b[0m \u001b[0msize\u001b[0m \u001b[1;33m>\u001b[0m \u001b[1;36m0\u001b[0m\u001b[1;33m:\u001b[0m\u001b[1;33m\u001b[0m\u001b[1;33m\u001b[0m\u001b[0m\n\u001b[0;32m    271\u001b[0m             \u001b[0mwin32\u001b[0m\u001b[1;33m.\u001b[0m\u001b[0mResetEvent\u001b[0m\u001b[1;33m(\u001b[0m\u001b[0mself\u001b[0m\u001b[1;33m.\u001b[0m\u001b[0m_overlapped_read\u001b[0m\u001b[1;33m.\u001b[0m\u001b[0mhEvent\u001b[0m\u001b[1;33m)\u001b[0m\u001b[1;33m\u001b[0m\u001b[1;33m\u001b[0m\u001b[0m\n",
      "\u001b[1;31mPortNotOpenError\u001b[0m: Attempting to use a port that is not open"
     ]
    }
   ],
   "source": [
    "meter.connection.read(1)"
   ]
  },
  {
   "cell_type": "code",
   "execution_count": null,
   "id": "e34a377e",
   "metadata": {},
   "outputs": [],
   "source": []
  },
  {
   "cell_type": "code",
   "execution_count": null,
   "id": "1ff17d6f",
   "metadata": {},
   "outputs": [],
   "source": [
    "\n",
    "    @classmethod\n",
    "    def is_connected(cls, port=self.port, ID='A'):\n",
    "        \"\"\"Return True if the specified port is connected to this device.\n",
    "        This class can be used to automatically identify ports with connected\n",
    "        Alicats. Iterate through all connected interfaces, and use this to\n",
    "        test. Ports that come back True should be valid addresses.\n",
    "        \"\"\"\n",
    "        is_device = False\n",
    "        try:\n",
    "            device = cls(port, address)\n",
    "            try:\n",
    "                c = device.get()\n",
    "                if cls.__name__ == 'FlowMeter':\n",
    "                    assert c and 'setpoint' not in device.keys\n",
    "                elif cls.__name__ == 'FlowController':\n",
    "                    assert c and 'setpoint' in device.keys\n",
    "                else:\n",
    "                    raise NotImplementedError('Must be meter or controller.')\n",
    "                is_device = True\n",
    "            finally:\n",
    "                device.close()\n",
    "        except Exception:\n",
    "            pass\n",
    "        return is_device\n",
    "\n",
    "    def _test_controller_open(self):\n",
    "        \"\"\"Raise an IOError if the FlowMeter has been closed.\n",
    "        Does nothing if the meter is open and good for read/write\n",
    "        otherwise raises an IOError. This only checks if the meter\n",
    "        has been closed by the FlowMeter.close method.\n",
    "        \"\"\"\n",
    "        if not self.open:\n",
    "            raise IOError(\"The FlowController with address {} and \\\n",
    "                          port {} is not open\".format(self.address,\n",
    "                                                      self.port))\n",
    "\n",
    "    def get(self, retries=2):\n",
    "        \"\"\"Get the current state of the flow controller.\n",
    "        From the Alicat mass flow controller documentation, this data is:\n",
    "         * Pressure (normally in psia)\n",
    "         * Temperature (normally in C)\n",
    "         * Volumetric flow (in units specified at time of order)\n",
    "         * Mass flow (in units specified at time of order)\n",
    "         * Total flow (only on models with the optional totalizer function)\n",
    "         * Currently selected gas\n",
    "        Args:\n",
    "            retries: Number of times to re-attempt reading. Default 2.\n",
    "        Returns:\n",
    "            The state of the flow controller, as a dictionary.\n",
    "        \"\"\"\n",
    "        self._test_controller_open()\n",
    "\n",
    "        command = '{addr}\\r'.format(addr=self.address)\n",
    "        line = self._write_and_read(command, retries)\n",
    "        spl = line.split()\n",
    "        address, values = spl[0], spl[1:]\n",
    "\n",
    "        # Mass/volume over range error.\n",
    "        # Explicitly silenced because I find it redundant.\n",
    "        while values[-1].upper() in ['MOV', 'VOV']:\n",
    "            del values[-1]\n",
    "\n",
    "        if address != self.address:\n",
    "            raise ValueError(\"Flow controller address mismatch.\")\n",
    "        if len(values) == 5 and len(self.keys) == 6:\n",
    "            del self.keys[-2]\n",
    "        elif len(values) == 7 and len(self.keys) == 6:\n",
    "            self.keys.insert(5, 'total flow')\n",
    "        return {k: (v if k == self.keys[-1] else float(v))\n",
    "                for k, v in zip(self.keys, values)}"
   ]
  }
 ],
 "metadata": {
  "kernelspec": {
   "display_name": "Python 3",
   "language": "python",
   "name": "python3"
  },
  "language_info": {
   "codemirror_mode": {
    "name": "ipython",
    "version": 3
   },
   "file_extension": ".py",
   "mimetype": "text/x-python",
   "name": "python",
   "nbconvert_exporter": "python",
   "pygments_lexer": "ipython3",
   "version": "3.8.8"
  }
 },
 "nbformat": 4,
 "nbformat_minor": 5
}
