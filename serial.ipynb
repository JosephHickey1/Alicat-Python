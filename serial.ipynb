{
 "cells": [
  {
   "cell_type": "markdown",
   "id": "8e4d916b",
   "metadata": {},
   "source": [
    "This file serves as a class to form the serial connection to an Alicat device."
   ]
  },
  {
   "cell_type": "code",
   "execution_count": null,
   "id": "06e0b811",
   "metadata": {},
   "outputs": [],
   "source": [
    "gases = ['Air', 'Ar', 'CH4', 'CO', 'CO2', 'C2H6', 'H2', 'He',\n",
    "                      'N2', 'N2O', 'Ne', 'O2', 'C3H8', 'n-C4H10', 'C2H2',\n",
    "                      'C2H4', 'i-C2H10', 'Kr', 'Xe', 'SF6', 'C-25', 'C-10',\n",
    "                      'C-8', 'C-2', 'C-75', 'A-75', 'A-25', 'A1025', 'Star29',\n",
    "                      'P-5']"
   ]
  },
  {
   "cell_type": "code",
   "execution_count": null,
   "id": "887d02b3",
   "metadata": {},
   "outputs": [],
   "source": [
    "gas = 'Air'\n",
    "command = '{addr}$${gas}\\r'.format(addr='A', gas=gases.index(gas))"
   ]
  },
  {
   "cell_type": "code",
   "execution_count": null,
   "id": "f4815a53",
   "metadata": {},
   "outputs": [],
   "source": [
    "ser.write(command.encode('ascii'))"
   ]
  },
  {
   "cell_type": "code",
   "execution_count": null,
   "id": "ac2d1857",
   "metadata": {},
   "outputs": [],
   "source": [
    "ser.write('AR24\\r'.encode('ascii'))\n",
    "read_output(ser,'A','out')\n"
   ]
  },
  {
   "cell_type": "code",
   "execution_count": null,
   "id": "a8122d4e",
   "metadata": {},
   "outputs": [],
   "source": [
    "ser.readline()"
   ]
  },
  {
   "cell_type": "code",
   "execution_count": null,
   "id": "ce0a40ca",
   "metadata": {},
   "outputs": [],
   "source": [
    "def read_output(ser,ID,output):\n",
    "    \n",
    "    if output != 'out':\n",
    "        command = f'{ID}\\r'.encode('ascii')\n",
    "        ser.write(command)\n",
    "    \n",
    "    line = bytearray()\n",
    "    while True:\n",
    "        c = ser.read(1)\n",
    "        if c:\n",
    "            line += c\n",
    "            if line[-1] == ord('\\r'):\n",
    "                break\n",
    "        else:\n",
    "            break\n",
    "            \n",
    "    ser.flush()\n",
    "    ser.flushInput()\n",
    "    ser.flushOutput()\n",
    "    \n",
    "    return line.decode('ascii').strip()"
   ]
  },
  {
   "cell_type": "code",
   "execution_count": null,
   "id": "79b39e07",
   "metadata": {},
   "outputs": [],
   "source": [
    "def _readline(ser):\n",
    "        \"\"\"Read a line using a custom newline character (CR in this case).\n",
    "        Function from http://stackoverflow.com/questions/16470903/\n",
    "        pyserial-2-6-specify-end-of-line-in-readline\n",
    "        \"\"\"\n",
    "        \n",
    "\n",
    "        line = bytearray()\n",
    "        while True:\n",
    "            c = ser.read(1)\n",
    "            if c:\n",
    "                line += c\n",
    "                if line[-1] == ord('\\r'):\n",
    "                    break\n",
    "            else:\n",
    "                break\n",
    "        return line.decode('ascii').strip()"
   ]
  },
  {
   "cell_type": "code",
   "execution_count": null,
   "id": "b62182ef",
   "metadata": {},
   "outputs": [],
   "source": [
    "ser.flush()\n",
    "ser.flushInput()\n",
    "ser.flushOutput()"
   ]
  },
  {
   "cell_type": "code",
   "execution_count": null,
   "id": "1e9be6d7",
   "metadata": {},
   "outputs": [],
   "source": [
    "line = bytearray()\n",
    "while True:\n",
    "    c = ser.read(1)\n",
    "    if c:\n",
    "        line += c\n",
    "        if line[-1] == ord('\\r'):\n",
    "            break\n",
    "    else:\n",
    "        break\n",
    "    "
   ]
  },
  {
   "cell_type": "code",
   "execution_count": 1,
   "id": "2ccfd816",
   "metadata": {},
   "outputs": [],
   "source": [
    "try:\n",
    "    import serial\n",
    "    from dataclasses import dataclass\n",
    "except ImportError:\n",
    "    print(\"An error occurred while attempting to import the pyserial backend. Please check your installation and try again.\")\n"
   ]
  },
  {
   "cell_type": "code",
   "execution_count": 34,
   "id": "ea9c359f",
   "metadata": {},
   "outputs": [],
   "source": [
    "class Serial_Connection(object):\n",
    "    \n",
    "    open_ports = {}\n",
    "    \n",
    "    def __init__(self, port='/dev/ttyUSB0', baud=19200):\n",
    "        \n",
    "        self.port, self.baud = port, baud\n",
    "        self.devices = {}\n",
    "        \n",
    "        if port in Serial_Connection.open_ports:\n",
    "            self.connection = Serial_Connection.open_ports[port]\n",
    "        else:\n",
    "            self.connection = serial.Serial(port, baud, timeout=2.0)\n",
    "            Serial_Connection.open_ports[port] = self.connection\n",
    "        \n",
    "        self.open = True\n",
    "        \n",
    "    def _test_open(self):\n",
    "        \n",
    "        if not self.open:\n",
    "            raise IOError(f\"The connection to Alicats on port {self.port} not open\")\n",
    "    \n",
    "    \n",
    "    def flush(self):\n",
    "        \n",
    "        self._test_open()\n",
    "        \n",
    "        self.connection.flush()\n",
    "        self.connection.flushInput()\n",
    "        self.connection.flushOutput()\n",
    "\n",
    "    def close(self):\n",
    "        \n",
    "        if not self.open:\n",
    "            return\n",
    "        \n",
    "        self.flush()\n",
    "        \n",
    "        self.connection.close()\n",
    "        Serial_Connection.open_ports.pop(self.port, None)\n",
    "        \n",
    "        self.open = False\n",
    "        \n",
    "    def read(self):\n",
    "        \n",
    "        self._test_open()\n",
    "        \n",
    "        line = bytearray()\n",
    "        while True:\n",
    "            c = self.connection.read(1)\n",
    "            if c:\n",
    "                line += c\n",
    "                if line[-1] == ord('\\r'):\n",
    "                    break\n",
    "            else:\n",
    "                break\n",
    "        \n",
    "        return line.decode('ascii').strip()\n",
    "    \n",
    "    def write(self, ID, command):\n",
    "        \n",
    "        command = str(ID) + str(command) + '\\r'\n",
    "        command = command.encode('ascii')\n",
    "        self.connection.write(command)\n",
    "        response = []\n",
    "        response.append(self.read())\n",
    "        while True:\n",
    "            if response[-1] != '':\n",
    "                response.append(self.read())\n",
    "            else:\n",
    "                return response[:-1]\n",
    "            \n",
    "    def remove_characters(self, array, *kwargs):\n",
    "        \n",
    "        if isinstance(array[0], list):\n",
    "            \n",
    "            for i in range(len(kwargs)):\n",
    "                for j in range(len(array)):\n",
    "                    array[j-1] = list(filter((kwargs[i-1]).__ne__, array[j-1]))\n",
    "                    \n",
    "        else:\n",
    "            \n",
    "            for i in kwargs:\n",
    "                array = list(filter((kwargs[i]).__ne__, array))\n",
    "        \n",
    "        return array\n",
    "    \n",
    "    \n",
    "    \n",
    "    "
   ]
  },
  {
   "cell_type": "code",
   "execution_count": 97,
   "id": "ff3f8831",
   "metadata": {},
   "outputs": [],
   "source": [
    "class MassFlowMeter(Serial_Connection):\n",
    "    \n",
    "    def __init__(self, ID :str ='A', port : str ='/dev/ttyUSB0', baud : int =19200):\n",
    "        super().__init__(port, baud)\n",
    "        self.ID, self.port, self.baud = ID, port, baud\n",
    "        self.fetch_gas_list()\n",
    "        self.fetch_firmware_version()\n",
    "        self.data_format()\n",
    "    \n",
    "    def fetch_gas_list(self):\n",
    "        self.gas_list = {}\n",
    "        gases = [i.split() for i in self.write(self.ID, '??G*')]\n",
    "        gases = self.remove_characters(gases, '\\x08')\n",
    "        for i in range(len(gases)):\n",
    "            self.gas_list[gases[i-1][2]] = (gases[i-1][1])[1:]\n",
    "        \n",
    "    \n",
    "    def fetch_firmware_version(self):\n",
    "        manufacturer_data = [i.split() for i in self.write(self.ID, '??M*')]\n",
    "        self.manufacturer_data = self.remove_characters(manufacturer_data,'\\x08')\n",
    "        self.firmware_version = self.manufacturer_data[-1][-1]\n",
    "        \n",
    "    def data_format(self):\n",
    "        self.data = []\n",
    "        outputs = [i.split() for i in self.write(self.ID,'??D*')]\n",
    "        outputs = self.remove_characters(outputs,'\\x08')\n",
    "        for i in range(2,len(outputs)):\n",
    "            if outputs[i][3] != 'string' and outputs[i][2] != 'Gas':\n",
    "                self.data[i-2] = [outputs[i][1][1:],outputs[i][2],outputs[i][4:]]\n",
    "        \n",
    "        \n",
    "        "
   ]
  },
  {
   "cell_type": "code",
   "execution_count": 63,
   "id": "c874efa8",
   "metadata": {},
   "outputs": [
    {
     "data": {
      "text/plain": [
       "5"
      ]
     },
     "execution_count": 63,
     "metadata": {},
     "output_type": "execute_result"
    }
   ],
   "source": [
    "a = [[1,2,3,4],[2,3,4],[3,5,6,6]]\n",
    "a[2][1]"
   ]
  },
  {
   "cell_type": "code",
   "execution_count": 43,
   "id": "be5540e8",
   "metadata": {
    "scrolled": true
   },
   "outputs": [],
   "source": [
    "AAA = Serial_Connection('COM5',19200)"
   ]
  },
  {
   "cell_type": "code",
   "execution_count": 8,
   "id": "28e01222",
   "metadata": {},
   "outputs": [
    {
     "data": {
      "text/plain": [
       "['A +013.66 +030.28 -0.0000 -0.0000 +0.0000 +0000.00336 +000000.0037    Air']"
      ]
     },
     "execution_count": 8,
     "metadata": {},
     "output_type": "execute_result"
    }
   ],
   "source": [
    "BBB.write('A','')"
   ]
  },
  {
   "cell_type": "code",
   "execution_count": 98,
   "id": "4e9e9562",
   "metadata": {
    "scrolled": true
   },
   "outputs": [
    {
     "ename": "IndexError",
     "evalue": "list assignment index out of range",
     "output_type": "error",
     "traceback": [
      "\u001b[1;31m---------------------------------------------------------------------------\u001b[0m",
      "\u001b[1;31mIndexError\u001b[0m                                Traceback (most recent call last)",
      "\u001b[1;32mC:\\Users\\JOSEPH~1.HIC\\AppData\\Local\\Temp/ipykernel_16828/2737356188.py\u001b[0m in \u001b[0;36m<module>\u001b[1;34m\u001b[0m\n\u001b[1;32m----> 1\u001b[1;33m \u001b[0mBBB\u001b[0m \u001b[1;33m=\u001b[0m \u001b[0mMassFlowMeter\u001b[0m\u001b[1;33m(\u001b[0m\u001b[1;34m'A'\u001b[0m\u001b[1;33m,\u001b[0m\u001b[1;34m'COM5'\u001b[0m\u001b[1;33m,\u001b[0m\u001b[1;36m19200\u001b[0m\u001b[1;33m)\u001b[0m\u001b[1;33m\u001b[0m\u001b[1;33m\u001b[0m\u001b[0m\n\u001b[0m",
      "\u001b[1;32mC:\\Users\\JOSEPH~1.HIC\\AppData\\Local\\Temp/ipykernel_16828/1159796823.py\u001b[0m in \u001b[0;36m__init__\u001b[1;34m(self, ID, port, baud)\u001b[0m\n\u001b[0;32m      6\u001b[0m         \u001b[0mself\u001b[0m\u001b[1;33m.\u001b[0m\u001b[0mfetch_gas_list\u001b[0m\u001b[1;33m(\u001b[0m\u001b[1;33m)\u001b[0m\u001b[1;33m\u001b[0m\u001b[1;33m\u001b[0m\u001b[0m\n\u001b[0;32m      7\u001b[0m         \u001b[0mself\u001b[0m\u001b[1;33m.\u001b[0m\u001b[0mfetch_firmware_version\u001b[0m\u001b[1;33m(\u001b[0m\u001b[1;33m)\u001b[0m\u001b[1;33m\u001b[0m\u001b[1;33m\u001b[0m\u001b[0m\n\u001b[1;32m----> 8\u001b[1;33m         \u001b[0mself\u001b[0m\u001b[1;33m.\u001b[0m\u001b[0mdata_format\u001b[0m\u001b[1;33m(\u001b[0m\u001b[1;33m)\u001b[0m\u001b[1;33m\u001b[0m\u001b[1;33m\u001b[0m\u001b[0m\n\u001b[0m\u001b[0;32m      9\u001b[0m \u001b[1;33m\u001b[0m\u001b[0m\n\u001b[0;32m     10\u001b[0m     \u001b[1;32mdef\u001b[0m \u001b[0mfetch_gas_list\u001b[0m\u001b[1;33m(\u001b[0m\u001b[0mself\u001b[0m\u001b[1;33m)\u001b[0m\u001b[1;33m:\u001b[0m\u001b[1;33m\u001b[0m\u001b[1;33m\u001b[0m\u001b[0m\n",
      "\u001b[1;32mC:\\Users\\JOSEPH~1.HIC\\AppData\\Local\\Temp/ipykernel_16828/1159796823.py\u001b[0m in \u001b[0;36mdata_format\u001b[1;34m(self)\u001b[0m\n\u001b[0;32m     27\u001b[0m         \u001b[1;32mfor\u001b[0m \u001b[0mi\u001b[0m \u001b[1;32min\u001b[0m \u001b[0mrange\u001b[0m\u001b[1;33m(\u001b[0m\u001b[1;36m2\u001b[0m\u001b[1;33m,\u001b[0m\u001b[0mlen\u001b[0m\u001b[1;33m(\u001b[0m\u001b[0moutputs\u001b[0m\u001b[1;33m)\u001b[0m\u001b[1;33m)\u001b[0m\u001b[1;33m:\u001b[0m\u001b[1;33m\u001b[0m\u001b[1;33m\u001b[0m\u001b[0m\n\u001b[0;32m     28\u001b[0m             \u001b[1;32mif\u001b[0m \u001b[0moutputs\u001b[0m\u001b[1;33m[\u001b[0m\u001b[0mi\u001b[0m\u001b[1;33m]\u001b[0m\u001b[1;33m[\u001b[0m\u001b[1;36m3\u001b[0m\u001b[1;33m]\u001b[0m \u001b[1;33m!=\u001b[0m \u001b[1;34m'string'\u001b[0m \u001b[1;32mand\u001b[0m \u001b[0moutputs\u001b[0m\u001b[1;33m[\u001b[0m\u001b[0mi\u001b[0m\u001b[1;33m]\u001b[0m\u001b[1;33m[\u001b[0m\u001b[1;36m2\u001b[0m\u001b[1;33m]\u001b[0m \u001b[1;33m!=\u001b[0m \u001b[1;34m'Gas'\u001b[0m\u001b[1;33m:\u001b[0m\u001b[1;33m\u001b[0m\u001b[1;33m\u001b[0m\u001b[0m\n\u001b[1;32m---> 29\u001b[1;33m                 \u001b[0mself\u001b[0m\u001b[1;33m.\u001b[0m\u001b[0mdata\u001b[0m\u001b[1;33m[\u001b[0m\u001b[0mi\u001b[0m\u001b[1;33m-\u001b[0m\u001b[1;36m2\u001b[0m\u001b[1;33m]\u001b[0m \u001b[1;33m=\u001b[0m \u001b[1;33m[\u001b[0m\u001b[0moutputs\u001b[0m\u001b[1;33m[\u001b[0m\u001b[0mi\u001b[0m\u001b[1;33m]\u001b[0m\u001b[1;33m[\u001b[0m\u001b[1;36m1\u001b[0m\u001b[1;33m]\u001b[0m\u001b[1;33m[\u001b[0m\u001b[1;36m1\u001b[0m\u001b[1;33m:\u001b[0m\u001b[1;33m]\u001b[0m\u001b[1;33m,\u001b[0m\u001b[0moutputs\u001b[0m\u001b[1;33m[\u001b[0m\u001b[0mi\u001b[0m\u001b[1;33m]\u001b[0m\u001b[1;33m[\u001b[0m\u001b[1;36m2\u001b[0m\u001b[1;33m]\u001b[0m\u001b[1;33m,\u001b[0m\u001b[0moutputs\u001b[0m\u001b[1;33m[\u001b[0m\u001b[0mi\u001b[0m\u001b[1;33m]\u001b[0m\u001b[1;33m[\u001b[0m\u001b[1;36m4\u001b[0m\u001b[1;33m:\u001b[0m\u001b[1;33m]\u001b[0m\u001b[1;33m]\u001b[0m\u001b[1;33m\u001b[0m\u001b[1;33m\u001b[0m\u001b[0m\n\u001b[0m\u001b[0;32m     30\u001b[0m \u001b[1;33m\u001b[0m\u001b[0m\n\u001b[0;32m     31\u001b[0m \u001b[1;33m\u001b[0m\u001b[0m\n",
      "\u001b[1;31mIndexError\u001b[0m: list assignment index out of range"
     ]
    }
   ],
   "source": [
    "BBB = MassFlowMeter('A','COM5',19200)"
   ]
  },
  {
   "cell_type": "code",
   "execution_count": 93,
   "id": "e1899c05",
   "metadata": {},
   "outputs": [
    {
     "data": {
      "text/plain": [
       "'D10'"
      ]
     },
     "execution_count": 93,
     "metadata": {},
     "output_type": "execute_result"
    }
   ],
   "source": [
    "BBB.outputs[10][1]"
   ]
  },
  {
   "cell_type": "code",
   "execution_count": 86,
   "id": "62e4e68d",
   "metadata": {},
   "outputs": [],
   "source": [
    "a = [1,1,1,1,1,1,1,1,1,1,1,1,1]"
   ]
  },
  {
   "cell_type": "code",
   "execution_count": 94,
   "id": "cc118368",
   "metadata": {},
   "outputs": [
    {
     "name": "stdout",
     "output_type": "stream",
     "text": [
      "2\n",
      "3\n",
      "4\n",
      "5\n",
      "6\n",
      "7\n",
      "8\n",
      "9\n",
      "10\n",
      "11\n",
      "12\n"
     ]
    }
   ],
   "source": [
    "for i in range(2,len(a)):\n",
    "    print(i)"
   ]
  },
  {
   "cell_type": "code",
   "execution_count": 39,
   "id": "5a105d0e",
   "metadata": {
    "scrolled": true
   },
   "outputs": [
    {
     "data": {
      "text/plain": [
       "'GP07R80'"
      ]
     },
     "execution_count": 39,
     "metadata": {},
     "output_type": "execute_result"
    }
   ],
   "source": [
    "BBB.firmware_version\n"
   ]
  },
  {
   "cell_type": "code",
   "execution_count": 40,
   "id": "c058eded",
   "metadata": {
    "collapsed": true
   },
   "outputs": [
    {
     "data": {
      "text/plain": [
       "{'Air': '00',\n",
       " 'Ar': '01',\n",
       " 'CH4': '02',\n",
       " 'CO': '03',\n",
       " 'CO2': '04',\n",
       " 'C2H6': '05',\n",
       " 'H2': '06',\n",
       " 'He': '07',\n",
       " 'N2': '08',\n",
       " 'N2O': '09',\n",
       " 'Ne': '10',\n",
       " 'O2': '11',\n",
       " 'C3H8': '12',\n",
       " 'n-C4H10': '13',\n",
       " 'C2H2': '14',\n",
       " 'C2H4': '15',\n",
       " 'i-C4H10': '16',\n",
       " 'Krypton': '17',\n",
       " 'Xe': '18',\n",
       " 'SF6': '19',\n",
       " 'C-25': '20',\n",
       " 'C-10': '21',\n",
       " 'C-8': '22',\n",
       " 'C-2': '23',\n",
       " 'C-75': '24',\n",
       " 'A-75': '25',\n",
       " 'A-25': '26',\n",
       " 'A1025': '27',\n",
       " 'Star29': '28',\n",
       " 'P-5': '29'}"
      ]
     },
     "execution_count": 40,
     "metadata": {},
     "output_type": "execute_result"
    }
   ],
   "source": [
    "BBB.gas_list"
   ]
  },
  {
   "cell_type": "code",
   "execution_count": 68,
   "id": "dea7b90b",
   "metadata": {},
   "outputs": [
    {
     "ename": "OSError",
     "evalue": "The connection to Alicats on port COM5 not open",
     "output_type": "error",
     "traceback": [
      "\u001b[1;31m---------------------------------------------------------------------------\u001b[0m",
      "\u001b[1;31mOSError\u001b[0m                                   Traceback (most recent call last)",
      "\u001b[1;32mC:\\Users\\JOSEPH~1.HIC\\AppData\\Local\\Temp/ipykernel_16828/3112291843.py\u001b[0m in \u001b[0;36m<module>\u001b[1;34m\u001b[0m\n\u001b[1;32m----> 1\u001b[1;33m \u001b[0mBBB\u001b[0m\u001b[1;33m.\u001b[0m\u001b[0mflush\u001b[0m\u001b[1;33m(\u001b[0m\u001b[1;33m)\u001b[0m\u001b[1;33m\u001b[0m\u001b[1;33m\u001b[0m\u001b[0m\n\u001b[0m\u001b[0;32m      2\u001b[0m \u001b[0mBBB\u001b[0m\u001b[1;33m.\u001b[0m\u001b[0mclose\u001b[0m\u001b[1;33m(\u001b[0m\u001b[1;33m)\u001b[0m\u001b[1;33m\u001b[0m\u001b[1;33m\u001b[0m\u001b[0m\n",
      "\u001b[1;32mC:\\Users\\JOSEPH~1.HIC\\AppData\\Local\\Temp/ipykernel_16828/2930228921.py\u001b[0m in \u001b[0;36mflush\u001b[1;34m(self)\u001b[0m\n\u001b[0;32m     24\u001b[0m     \u001b[1;32mdef\u001b[0m \u001b[0mflush\u001b[0m\u001b[1;33m(\u001b[0m\u001b[0mself\u001b[0m\u001b[1;33m)\u001b[0m\u001b[1;33m:\u001b[0m\u001b[1;33m\u001b[0m\u001b[1;33m\u001b[0m\u001b[0m\n\u001b[0;32m     25\u001b[0m \u001b[1;33m\u001b[0m\u001b[0m\n\u001b[1;32m---> 26\u001b[1;33m         \u001b[0mself\u001b[0m\u001b[1;33m.\u001b[0m\u001b[0m_test_open\u001b[0m\u001b[1;33m(\u001b[0m\u001b[1;33m)\u001b[0m\u001b[1;33m\u001b[0m\u001b[1;33m\u001b[0m\u001b[0m\n\u001b[0m\u001b[0;32m     27\u001b[0m \u001b[1;33m\u001b[0m\u001b[0m\n\u001b[0;32m     28\u001b[0m         \u001b[0mself\u001b[0m\u001b[1;33m.\u001b[0m\u001b[0mconnection\u001b[0m\u001b[1;33m.\u001b[0m\u001b[0mflush\u001b[0m\u001b[1;33m(\u001b[0m\u001b[1;33m)\u001b[0m\u001b[1;33m\u001b[0m\u001b[1;33m\u001b[0m\u001b[0m\n",
      "\u001b[1;32mC:\\Users\\JOSEPH~1.HIC\\AppData\\Local\\Temp/ipykernel_16828/2930228921.py\u001b[0m in \u001b[0;36m_test_open\u001b[1;34m(self)\u001b[0m\n\u001b[0;32m     19\u001b[0m \u001b[1;33m\u001b[0m\u001b[0m\n\u001b[0;32m     20\u001b[0m         \u001b[1;32mif\u001b[0m \u001b[1;32mnot\u001b[0m \u001b[0mself\u001b[0m\u001b[1;33m.\u001b[0m\u001b[0mopen\u001b[0m\u001b[1;33m:\u001b[0m\u001b[1;33m\u001b[0m\u001b[1;33m\u001b[0m\u001b[0m\n\u001b[1;32m---> 21\u001b[1;33m             \u001b[1;32mraise\u001b[0m \u001b[0mIOError\u001b[0m\u001b[1;33m(\u001b[0m\u001b[1;34mf\"The connection to Alicats on port {self.port} not open\"\u001b[0m\u001b[1;33m)\u001b[0m\u001b[1;33m\u001b[0m\u001b[1;33m\u001b[0m\u001b[0m\n\u001b[0m\u001b[0;32m     22\u001b[0m \u001b[1;33m\u001b[0m\u001b[0m\n\u001b[0;32m     23\u001b[0m \u001b[1;33m\u001b[0m\u001b[0m\n",
      "\u001b[1;31mOSError\u001b[0m: The connection to Alicats on port COM5 not open"
     ]
    }
   ],
   "source": [
    "BBB.flush()\n",
    "BBB.close()"
   ]
  },
  {
   "cell_type": "code",
   "execution_count": 47,
   "id": "87f72b2a",
   "metadata": {},
   "outputs": [],
   "source": [
    "AAA.flush()\n",
    "AAA.close()"
   ]
  }
 ],
 "metadata": {
  "kernelspec": {
   "display_name": "Python 3 (ipykernel)",
   "language": "python",
   "name": "python3"
  },
  "language_info": {
   "codemirror_mode": {
    "name": "ipython",
    "version": 3
   },
   "file_extension": ".py",
   "mimetype": "text/x-python",
   "name": "python",
   "nbconvert_exporter": "python",
   "pygments_lexer": "ipython3",
   "version": "3.8.8"
  }
 },
 "nbformat": 4,
 "nbformat_minor": 5
}
