{
 "cells": [
  {
   "cell_type": "markdown",
   "id": "8e4d916b",
   "metadata": {},
   "source": [
    "These classes form the backbone of Alicat operations through serial commmands"
   ]
  },
  {
   "cell_type": "code",
   "execution_count": 1,
   "id": "2ccfd816",
   "metadata": {},
   "outputs": [],
   "source": [
    "try:\n",
    "    import serial\n",
    "except ImportError:\n",
    "    print(\"An error occurred while attempting to import the pyserial backend. Please check your installation and try again.\")\n"
   ]
  },
  {
   "cell_type": "code",
   "execution_count": 31,
   "id": "ea9c359f",
   "metadata": {},
   "outputs": [],
   "source": [
    "class Serial_Connection(object):\n",
    "    \"\"\"The serial connection object from which other classes inherit port and baud settings as\n",
    "    well as reading and writing capabilities. Preprocessing for GP firmware outputs is performed\n",
    "    using the remove_characters function\"\"\"\n",
    "    \n",
    "    # A dictionary storing open serial ports for comparison with new connections being opened\n",
    "    open_ports = {}\n",
    "    \n",
    "    def __init__(self, port='/dev/ttyUSB0', baud=19200):\n",
    "        \n",
    "        self.port, self.baud = port, baud\n",
    "        self.devices = {}\n",
    "        \n",
    "        # Checks for the existence of an identical port to avoid multiple instances\n",
    "        # creates a new one if none exists\n",
    "        if port in Serial_Connection.open_ports:\n",
    "            self.connection = Serial_Connection.open_ports[port]\n",
    "        else:\n",
    "            self.connection = serial.Serial(port, baud, timeout=2.0)\n",
    "            Serial_Connection.open_ports[port] = self.connection\n",
    "        \n",
    "        self.open = True\n",
    "        \n",
    "    def _test_open(self):\n",
    "        \n",
    "        if not self.open:\n",
    "            raise IOError(f\"The connection to Alicats on port {self.port} not open\")\n",
    "    \n",
    "    \n",
    "    def flush(self):\n",
    "        \"\"\"Deletes all characters in the read/write buffer to avoid double messages or rewrites\"\"\"\n",
    "        self._test_open()\n",
    "        \n",
    "        self.connection.flush()\n",
    "        self.connection.flushInput()\n",
    "        self.connection.flushOutput()\n",
    "\n",
    "    def close(self):\n",
    "        \"\"\"Checks if the instance exists, clears the buffer, closes the connection, and removes\n",
    "        itself from the dictionary of active ports\"\"\"\n",
    "        if not self.open:\n",
    "            return\n",
    "        \n",
    "        self.flush()\n",
    "        \n",
    "        self.connection.close()\n",
    "        Serial_Connection.open_ports.pop(self.port, None)\n",
    "        \n",
    "        self.open = False\n",
    "        \n",
    "    def read(self):\n",
    "        \"\"\"Fast read method using byte arrays with a carriage return delimiter between lines.\n",
    "        ~30x faster than a readline operation by reading individual characters and appending \n",
    "        them to the byte array. The byte array is then decoded into a string and returned\"\"\"\n",
    "        self._test_open()\n",
    "        \n",
    "        line = bytearray()\n",
    "        while True:\n",
    "            c = self.connection.read(1)\n",
    "            if c:\n",
    "                line += c\n",
    "                if line[-1] == ord('\\r'):\n",
    "                    break\n",
    "            else:\n",
    "                break\n",
    "        \n",
    "        return line.decode('ascii').strip()\n",
    "    \n",
    "    def write(self, ID, command):\n",
    "        \"\"\"Writes the input command for a device with the stated ID by encoding to ascii\n",
    "        and sending through the serial connection write command. Reads out the return parsing \n",
    "        multiple lines until the buffer is clear.\"\"\"\n",
    "        command = str(ID) + str(command) + '\\r'\n",
    "        command = command.encode('ascii')\n",
    "        self.connection.write(command)\n",
    "        response = []\n",
    "        response.append(self.read())\n",
    "        while True:\n",
    "            if response[-1] != '':\n",
    "                response.append(self.read())\n",
    "            else:\n",
    "                return response[:-1]\n",
    "            \n",
    "    def remove_characters(self, array, *args):\n",
    "        \"\"\"Removes any set of string characters from an array in place. Used for\n",
    "        clearing the '/x08' string from arrays returned from the read and write commands\"\"\"\n",
    "        \n",
    "        if isinstance(array[0], list):\n",
    "            for i in range(len(args)):\n",
    "                for j in range(len(array)):\n",
    "                    array[j] = list(filter((args[i]).__ne__, array[j-1]))\n",
    "        else:\n",
    "            for i in range(len(args)):\n",
    "                array = list(filter((args[i]).__ne__, array))\n",
    "        return array\n",
    "    \n",
    "    \n",
    "    \n",
    "    "
   ]
  },
  {
   "cell_type": "code",
   "execution_count": 13,
   "id": "ff3f8831",
   "metadata": {},
   "outputs": [],
   "source": [
    "class MassFlowMeter(Serial_Connection):\n",
    "    \"\"\"Base class which obtains relevant gas\"\"\"\n",
    "    def __init__(self, ID :str ='A', port : str ='/dev/ttyUSB0', baud : int =19200):\n",
    "        super().__init__(port, baud)\n",
    "        self.ID, self.port, self.baud = ID, port, baud\n",
    "        self.fetch_gas_list()\n",
    "        #self.fetch_firmware_version()\n",
    "        #self.data_format()\n",
    "    \n",
    "    def fetch_gas_list(self):\n",
    "        self.gas_list = {}\n",
    "        gases = [i.split() for i in self.write(self.ID, '??G*')]\n",
    "        self.gases = self.remove_characters(gases, '\\x08')\n",
    "        for i in range(len(gases)):\n",
    "            self.gas_list[gases[i][2]] = (gases[i][1])[1:]\n",
    "        \n",
    "    \n",
    "    def fetch_firmware_version(self):\n",
    "        manufacturer_data = [i.split() for i in self.write(self.ID, '??M*')]\n",
    "        self.manufacturer_data = self.remove_characters(manufacturer_data,'\\x08')\n",
    "        self.firmware_version = self.manufacturer_data[-1][-1]\n",
    "        \n",
    "    def data_format(self):\n",
    "        self.data = []\n",
    "        outputs = [i.split() for i in self.write(self.ID,'??D*')]\n",
    "        outputs = self.remove_characters(outputs,'\\x08')\n",
    "        for i in range(2,len(outputs)):\n",
    "            if outputs[i][3] != 'string' and outputs[i][2] != 'Gas':\n",
    "                self.data[i-2] = [outputs[i][1][1:],outputs[i][2],outputs[i][4:]]\n",
    "        \n",
    "        \n",
    "        "
   ]
  },
  {
   "cell_type": "code",
   "execution_count": 14,
   "id": "be5540e8",
   "metadata": {
    "scrolled": true
   },
   "outputs": [],
   "source": [
    "AAA = MassFlowMeter(ID='A', port='COM5', baud=19200)"
   ]
  },
  {
   "cell_type": "code",
   "execution_count": 30,
   "id": "8e3746b3",
   "metadata": {},
   "outputs": [],
   "source": [
    "def remove_characters(array, *args):\n",
    "    \"\"\"Removes any set of string characters from an array in place. Used for\n",
    "    clearing the '/x08' string from arrays returned from the read and write commands\"\"\"\n",
    "    \n",
    "    if isinstance(array[0], list):\n",
    "        for i in range(len(args)):\n",
    "            for j in range(len(array)):\n",
    "                array[j] = list(filter((args[i]).__ne__, array[j-1]))\n",
    "    else:\n",
    "        for i in range(len(args)):\n",
    "            array = list(filter((args[i]).__ne__, array))\n",
    "    return array"
   ]
  },
  {
   "cell_type": "code",
   "execution_count": 21,
   "id": "a9f81950",
   "metadata": {},
   "outputs": [],
   "source": [
    "gas_list={}\n",
    "for i in range(len(AAA.gases)):\n",
    "    gas_list[AAA.gases[i][2]] = (AAA.gases[i][1])[1:]"
   ]
  },
  {
   "cell_type": "code",
   "execution_count": 24,
   "id": "dabf1983",
   "metadata": {},
   "outputs": [
    {
     "data": {
      "text/plain": [
       "'29'"
      ]
     },
     "execution_count": 24,
     "metadata": {},
     "output_type": "execute_result"
    }
   ],
   "source": [
    "(AAA.gases[0][1])[1:]"
   ]
  },
  {
   "cell_type": "code",
   "execution_count": 18,
   "id": "a87015bc",
   "metadata": {
    "collapsed": true
   },
   "outputs": [
    {
     "data": {
      "text/plain": [
       "[['A', 'G29', 'P-5'],\n",
       " ['A', 'G29', 'P-5'],\n",
       " ['A', 'G29', 'P-5'],\n",
       " ['A', 'G29', 'P-5'],\n",
       " ['A', 'G29', 'P-5'],\n",
       " ['A', 'G29', 'P-5'],\n",
       " ['A', 'G29', 'P-5'],\n",
       " ['A', 'G29', 'P-5'],\n",
       " ['A', 'G29', 'P-5'],\n",
       " ['A', 'G29', 'P-5'],\n",
       " ['A', 'G29', 'P-5'],\n",
       " ['A', 'G29', 'P-5'],\n",
       " ['A', 'G29', 'P-5'],\n",
       " ['A', 'G29', 'P-5'],\n",
       " ['A', 'G29', 'P-5'],\n",
       " ['A', 'G29', 'P-5'],\n",
       " ['A', 'G29', 'P-5'],\n",
       " ['A', 'G29', 'P-5'],\n",
       " ['A', 'G29', 'P-5'],\n",
       " ['A', 'G29', 'P-5'],\n",
       " ['A', 'G29', 'P-5'],\n",
       " ['A', 'G29', 'P-5'],\n",
       " ['A', 'G29', 'P-5'],\n",
       " ['A', 'G29', 'P-5'],\n",
       " ['A', 'G29', 'P-5'],\n",
       " ['A', 'G29', 'P-5'],\n",
       " ['A', 'G29', 'P-5'],\n",
       " ['A', 'G29', 'P-5'],\n",
       " ['A', 'G29', 'P-5'],\n",
       " ['A', 'G29', 'P-5']]"
      ]
     },
     "execution_count": 18,
     "metadata": {},
     "output_type": "execute_result"
    }
   ],
   "source": [
    "AAA.gases"
   ]
  },
  {
   "cell_type": "code",
   "execution_count": null,
   "id": "d31d8083",
   "metadata": {},
   "outputs": [],
   "source": [
    "BBB=Serial_Connection(port='COM5\", baud=19200')"
   ]
  },
  {
   "cell_type": "code",
   "execution_count": 39,
   "id": "a3174500",
   "metadata": {},
   "outputs": [],
   "source": [
    "#gases = AAA.write('A','??G*')\n",
    "gases = [i.split() for i in AAA.write('A', '??G*')]"
   ]
  },
  {
   "cell_type": "code",
   "execution_count": 42,
   "id": "99f13936",
   "metadata": {
    "scrolled": true
   },
   "outputs": [
    {
     "data": {
      "text/plain": [
       "True"
      ]
     },
     "execution_count": 42,
     "metadata": {},
     "output_type": "execute_result"
    }
   ],
   "source": [
    "isinstance(gases[0], list)"
   ]
  },
  {
   "cell_type": "code",
   "execution_count": 40,
   "id": "434293ba",
   "metadata": {},
   "outputs": [
    {
     "data": {
      "text/plain": [
       "[['A', 'G29', 'P-5'],\n",
       " ['A', 'G29', 'P-5'],\n",
       " ['A', 'G29', 'P-5'],\n",
       " ['A', 'G29', 'P-5'],\n",
       " ['A', 'G29', 'P-5'],\n",
       " ['A', 'G29', 'P-5'],\n",
       " ['A', 'G29', 'P-5'],\n",
       " ['A', 'G29', 'P-5'],\n",
       " ['A', 'G29', 'P-5'],\n",
       " ['A', 'G29', 'P-5'],\n",
       " ['A', 'G29', 'P-5'],\n",
       " ['A', 'G29', 'P-5'],\n",
       " ['A', 'G29', 'P-5'],\n",
       " ['A', 'G29', 'P-5'],\n",
       " ['A', 'G29', 'P-5'],\n",
       " ['A', 'G29', 'P-5'],\n",
       " ['A', 'G29', 'P-5'],\n",
       " ['A', 'G29', 'P-5'],\n",
       " ['A', 'G29', 'P-5'],\n",
       " ['A', 'G29', 'P-5'],\n",
       " ['A', 'G29', 'P-5'],\n",
       " ['A', 'G29', 'P-5'],\n",
       " ['A', 'G29', 'P-5'],\n",
       " ['A', 'G29', 'P-5'],\n",
       " ['A', 'G29', 'P-5'],\n",
       " ['A', 'G29', 'P-5'],\n",
       " ['A', 'G29', 'P-5'],\n",
       " ['A', 'G29', 'P-5'],\n",
       " ['A', 'G29', 'P-5'],\n",
       " ['A', 'G29', 'P-5']]"
      ]
     },
     "execution_count": 40,
     "metadata": {},
     "output_type": "execute_result"
    }
   ],
   "source": [
    "gases_clean = remove_characters(gases, '\\x08')\n",
    "gases_clean"
   ]
  },
  {
   "cell_type": "code",
   "execution_count": null,
   "id": "d0385132",
   "metadata": {
    "scrolled": false
   },
   "outputs": [],
   "source": [
    "AAA.gas_list"
   ]
  },
  {
   "cell_type": "code",
   "execution_count": null,
   "id": "791713d5",
   "metadata": {},
   "outputs": [],
   "source": [
    "BBB.write('A','??G*')"
   ]
  },
  {
   "cell_type": "code",
   "execution_count": null,
   "id": "6958e51b",
   "metadata": {},
   "outputs": [],
   "source": [
    "AAA.gases = gases"
   ]
  },
  {
   "cell_type": "code",
   "execution_count": null,
   "id": "91e986a8",
   "metadata": {},
   "outputs": [],
   "source": [
    "AAA.remove_characters(gases)"
   ]
  },
  {
   "cell_type": "code",
   "execution_count": null,
   "id": "5a105d0e",
   "metadata": {
    "scrolled": true
   },
   "outputs": [],
   "source": [
    "AAA.firmware_version\n"
   ]
  },
  {
   "cell_type": "code",
   "execution_count": null,
   "id": "c058eded",
   "metadata": {},
   "outputs": [],
   "source": [
    "AAA.gas_list"
   ]
  },
  {
   "cell_type": "code",
   "execution_count": 7,
   "id": "dea7b90b",
   "metadata": {},
   "outputs": [],
   "source": [
    "AAA.flush()\n",
    "AAA.close()"
   ]
  },
  {
   "cell_type": "code",
   "execution_count": null,
   "id": "2b74d0bd",
   "metadata": {},
   "outputs": [],
   "source": [
    "BBB.close()"
   ]
  }
 ],
 "metadata": {
  "kernelspec": {
   "display_name": "Python 3 (ipykernel)",
   "language": "python",
   "name": "python3"
  },
  "language_info": {
   "codemirror_mode": {
    "name": "ipython",
    "version": 3
   },
   "file_extension": ".py",
   "mimetype": "text/x-python",
   "name": "python",
   "nbconvert_exporter": "python",
   "pygments_lexer": "ipython3",
   "version": "3.8.8"
  }
 },
 "nbformat": 4,
 "nbformat_minor": 5
}
