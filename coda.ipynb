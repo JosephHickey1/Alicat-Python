{
 "cells": [
  {
   "cell_type": "markdown",
   "id": "cf6ae9a4",
   "metadata": {},
   "source": [
    "Python class for operating CODA Coriolis devices."
   ]
  },
  {
   "cell_type": "code",
   "execution_count": 19,
   "id": "f33ff085",
   "metadata": {},
   "outputs": [
    {
     "ename": "ModuleNotFoundError",
     "evalue": "No module named 'minimalmodbus'",
     "output_type": "error",
     "traceback": [
      "\u001b[1;31m---------------------------------------------------------------------------\u001b[0m",
      "\u001b[1;31mModuleNotFoundError\u001b[0m                       Traceback (most recent call last)",
      "Input \u001b[1;32mIn [19]\u001b[0m, in \u001b[0;36m<cell line: 6>\u001b[1;34m()\u001b[0m\n\u001b[0;32m      4\u001b[0m     \u001b[38;5;28mprint\u001b[39m(\u001b[38;5;124m\"\u001b[39m\u001b[38;5;124mAn error occurred while attempting to import the pyserial backend. Please check your installation and try again.\u001b[39m\u001b[38;5;124m\"\u001b[39m)\n\u001b[0;32m      5\u001b[0m \u001b[38;5;28;01mimport\u001b[39;00m \u001b[38;5;21;01mtime\u001b[39;00m\n\u001b[1;32m----> 6\u001b[0m \u001b[38;5;28;01mimport\u001b[39;00m \u001b[38;5;21;01mminimalmodbus\u001b[39;00m\n",
      "\u001b[1;31mModuleNotFoundError\u001b[0m: No module named 'minimalmodbus'"
     ]
    }
   ],
   "source": [
    "try:\n",
    "    import serial\n",
    "except ImportError:\n",
    "    print(\"An error occurred while attempting to import the pyserial backend. Please check your installation and try again.\")\n",
    "import time\n",
    "import minimalmodbus"
   ]
  },
  {
   "cell_type": "code",
   "execution_count": 2,
   "id": "e24ebd35",
   "metadata": {},
   "outputs": [],
   "source": [
    "class Serial_Connection(object):\n",
    "    \"\"\"The serial connection object from which other classes inherit port and baud settings as\n",
    "    well as reading and writing capabilities. Preprocessing for GP firmware outputs is performed\n",
    "    using the remove_characters function\"\"\"\n",
    "    \n",
    "    # A dictionary storing open serial ports for comparison with new connections being opened\n",
    "    open_ports = {}\n",
    "    \n",
    "    def __init__(self, port='/dev/ttyUSB0', baud=19200):\n",
    "        \n",
    "        self.port, self.baud = port, baud\n",
    "        \n",
    "        # Checks for the existence of an identical port to avoid multiple instances\n",
    "        # creates a new one if none exists\n",
    "        if port in Serial_Connection.open_ports:\n",
    "            self.connection = Serial_Connection.open_ports[port]\n",
    "        else:\n",
    "            self.connection = serial.Serial(port, baud, timeout=2.0)\n",
    "            Serial_Connection.open_ports[port] = self.connection\n",
    "        \n",
    "        self.open = True\n",
    "        \n",
    "        \n",
    "    def _test_open(self):\n",
    "        \n",
    "        if not self.open:\n",
    "            raise IOError(f\"The connection to Alicats on port {self.port} not open\")\n",
    "    \n",
    "    \n",
    "    def _flush(self):\n",
    "        \"\"\"Deletes all characters in the read/write buffer to avoid double messages or rewrites\"\"\"\n",
    "        self._test_open()\n",
    "        \n",
    "        self.connection.flush()\n",
    "        self.connection.flushInput()\n",
    "        self.connection.flushOutput()\n",
    "\n",
    "        \n",
    "    def _close(self):\n",
    "        \"\"\"Checks if the instance exists, clears the buffer, closes the connection, and removes\n",
    "        itself from the dictionary of active ports\"\"\"\n",
    "        if not self.open:\n",
    "            return\n",
    "        \n",
    "        self._flush()\n",
    "        \n",
    "        self.connection.close()\n",
    "        Serial_Connection.open_ports.pop(self.port, None)\n",
    "        \n",
    "        self.open = False\n",
    "        \n",
    "        \n",
    "    def _read(self):\n",
    "        \"\"\"Fast read method using byte arrays with a carriage return delimiter between lines.\n",
    "        ~30x faster than a readline operation by reading individual characters and appending \n",
    "        them to the byte array. The byte array is then decoded into a string and returned\"\"\"\n",
    "        self._test_open()\n",
    "        \n",
    "        line = bytearray()\n",
    "        while True:\n",
    "            c = self.connection.read(1)\n",
    "            if c:\n",
    "                line += c\n",
    "                if line[-1] == ord('\\r'):\n",
    "                    break\n",
    "            else:\n",
    "                break\n",
    "        \n",
    "        return line.decode('ascii').strip().replace('\\x08','')\n",
    "    \n",
    "    \n",
    "    def _write(self, ID, command, verbose=False):\n",
    "        \"\"\"Writes the input command for a device with the stated ID by encoding to ascii\n",
    "        and sending through the serial connection write command. Reads out the return parsing \n",
    "        multiple lines until the buffer is clear.\"\"\"\n",
    "        # Generate command string with carriage return '\\r'\n",
    "        command = str(ID) + str(command) + '\\r'\n",
    "        command = command.encode('ascii')\n",
    "        self.connection.write(command)\n",
    "        # If True, returns each line of response in a list, else clear responses\n",
    "        if verbose:\n",
    "            response = []\n",
    "            response.append(self._read())\n",
    "            while True:\n",
    "                if response[-1] != '':\n",
    "                    response.append(self._read())\n",
    "                else:\n",
    "                    return response[:-1]\n",
    "            \n",
    "        else:\n",
    "            self._flush()"
   ]
  },
  {
   "cell_type": "code",
   "execution_count": null,
   "id": "ea3e5038",
   "metadata": {},
   "outputs": [],
   "source": []
  },
  {
   "cell_type": "code",
   "execution_count": null,
   "id": "0ad35d22",
   "metadata": {},
   "outputs": [],
   "source": []
  },
  {
   "cell_type": "code",
   "execution_count": null,
   "id": "25bd30b5",
   "metadata": {},
   "outputs": [],
   "source": []
  }
 ],
 "metadata": {
  "kernelspec": {
   "display_name": "Python 3 (ipykernel)",
   "language": "python",
   "name": "python3"
  },
  "language_info": {
   "codemirror_mode": {
    "name": "ipython",
    "version": 3
   },
   "file_extension": ".py",
   "mimetype": "text/x-python",
   "name": "python",
   "nbconvert_exporter": "python",
   "pygments_lexer": "ipython3",
   "version": "3.8.8"
  }
 },
 "nbformat": 4,
 "nbformat_minor": 5
}
